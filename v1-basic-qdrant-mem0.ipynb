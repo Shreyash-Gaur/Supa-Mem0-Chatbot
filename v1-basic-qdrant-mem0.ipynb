{
 "cells": [
  {
   "cell_type": "code",
   "execution_count": 1,
   "metadata": {},
   "outputs": [
    {
     "name": "stdout",
     "output_type": "stream",
     "text": [
      "Adding memories...\n",
      "Memories added.\n",
      "Retrieving memories...\n",
      "Retrieved memories:\n",
      "{'results': [{'id': '808f0ba8-ac02-41c5-8d13-66cdda82befb', 'memory': 'Visiting Paris this summer', 'hash': '9a8b29a6c54913c9ba8f051d27d84646', 'metadata': None, 'created_at': '2025-07-28T13:30:22.134374-07:00', 'updated_at': None, 'user_id': 'john'}]}\n",
      "\n",
      "Searching for relevant memories:\n",
      "{'results': [{'id': '808f0ba8-ac02-41c5-8d13-66cdda82befb', 'memory': 'Visiting Paris this summer', 'hash': '9a8b29a6c54913c9ba8f051d27d84646', 'metadata': None, 'score': 0.63492143, 'created_at': '2025-07-28T13:30:22.134374-07:00', 'updated_at': None, 'user_id': 'john'}]}\n"
     ]
    }
   ],
   "source": [
    "import os\n",
    "from mem0 import Memory\n",
    "\n",
    "config = {\n",
    "    \"vector_store\": {\n",
    "        \"provider\": \"qdrant\",\n",
    "        \"config\": {\n",
    "            \"collection_name\": \"test\",\n",
    "            \"host\": \"localhost\",\n",
    "            \"port\": 6333,\n",
    "            \"embedding_model_dims\": 768,\n",
    "        },\n",
    "    },\n",
    "    \"llm\": {\n",
    "        \"provider\": \"ollama\",\n",
    "        \"config\": {\n",
    "            \"model\": \"llama3.2:latest\",\n",
    "            \"temperature\": 0,\n",
    "            \"max_tokens\": 2000,\n",
    "            \"ollama_base_url\": \"http://localhost:11434\",\n",
    "        },\n",
    "    },\n",
    "    \"embedder\": {\n",
    "        \"provider\": \"ollama\",\n",
    "        \"config\": {\n",
    "            \"model\": \"nomic-embed-text:latest\",\n",
    "            \"ollama_base_url\": \"http://localhost:11434\",\n",
    "        },\n",
    "    },\n",
    "}\n",
    "\n",
    "# Initialize Memory with the configuration\n",
    "m = Memory.from_config(config)\n",
    "\n",
    "print(\"Adding memories...\")\n",
    "m.add(\"I'm visiting Paris for the summer.\", user_id=\"john\")\n",
    "m.add(\"John likes to read books about history.\", user_id=\"john\")\n",
    "m.add(\"The weather in Paris is usually nice in July.\", user_id=\"john\")\n",
    "print(\"Memories added.\")\n",
    "\n",
    "print(\"Retrieving memories...\")\n",
    "memories = m.get_all(user_id=\"john\")\n",
    "print(\"Retrieved memories:\")\n",
    "print(memories)\n",
    "\n",
    "# Optionally, search for a specific memory\n",
    "print(\"\\nSearching for relevant memories:\")\n",
    "search_results = m.search(\"What is John doing in Paris?\", user_id=\"john\")\n",
    "print(search_results)"
   ]
  },
  {
   "cell_type": "code",
   "execution_count": null,
   "metadata": {},
   "outputs": [],
   "source": []
  }
 ],
 "metadata": {
  "kernelspec": {
   "display_name": "graph-rag",
   "language": "python",
   "name": "python3"
  },
  "language_info": {
   "codemirror_mode": {
    "name": "ipython",
    "version": 3
   },
   "file_extension": ".py",
   "mimetype": "text/x-python",
   "name": "python",
   "nbconvert_exporter": "python",
   "pygments_lexer": "ipython3",
   "version": "3.12.3"
  }
 },
 "nbformat": 4,
 "nbformat_minor": 4
}
